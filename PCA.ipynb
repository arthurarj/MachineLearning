{
 "cells": [
  {
   "cell_type": "markdown",
   "metadata": {},
   "source": [
    "## Principal Component Analysis (PCA)\n",
    "___\n",
    "\n",
    "1. [Introduction](#1.-Introduction) <br><br>\n",
    "2. [Synthetic data creation](#2.-Synthetic-data-creation) <br>\n",
    "    2.1 [Generate data](#2.1.-Generate-data) <br>\n",
    "    2.2 [Compute the data's mean and covariance matrix](#2.2-Compute-the-data's-mean-and-covariance-matrix) <br><br>\n",
    "\n",
    "3. [Synthetic data creation](#2.-Synthetic-data-creation)<br>\n",
    "    3.1. [Variance maximization formulation](#3.-Variance-maximization-formulation)<br>\n",
    "    3.2. [Defining function to be optimized](#3.1-Defining-function-to-be-optimized)<br>\n",
    "    3.3. [Plotting the data, along with its principal components](#3.3-Plotting-the-data,-along-with-its-principal-components)<br>\n",
    "    3.4. [Project the data onto the first principal component](#3.4-Project-the-data-onto-u1,-compute-the-variance-and-plot) <br>\n",
    "    3.5. [[Extra] Plot the variance against different vector directions](3.4-[Extra]-Plot-the-variance-against-different--vector-directions)<br><br>\n",
    "    \n",
    "4. [References](#4.-References)<br>\n",
    "___"
   ]
  },
  {
   "cell_type": "markdown",
   "metadata": {},
   "source": [
    "### 1. Introduction\n",
    "\n",
    "The theory and implementations explored here are based on the 12th chapter of [1]. \n",
    "\n",
    "PCA, also known as the *Karhunen-Loève* trasnform, is a technique widely used for applications such as:\n",
    "- Dimensionality reduction\n",
    "- Lossy data compression\n",
    "- Feature extraction\n",
    "- Data visualization\n",
    "\n",
    "\n",
    "There are **2** commonly used equivalent definitions of PCA that give rise to the same algorithm:\n",
    "\n",
    "1. The orthogonal projection of the data onto a lower dimensional linear space (the principal subspace), **maximizing the variance** of the projected data.\n",
    "\n",
    "2. The linear projection that **minimizes the average projection error**, i.e. the mean squared distance between the data points and their projections. \n",
    "\n",
    "Both definitions will be considered, but let's create some synthetic data first! \n",
    "___"
   ]
  },
  {
   "cell_type": "markdown",
   "metadata": {},
   "source": [
    "### 2. Synthetic data creation\n",
    "\n",
    "Consider a data set of observations $\\{\\texttt{x}_n\\}$ where $n = 1, . . . , N$, and $x_n$ is a\n",
    "Euclidean variable with dimensionality D. We want to project the data onto a\n",
    "subspace with dimensionality M < D, maximizing the variance of the projected\n",
    "data.\n",
    "\n",
    "In our example, let's have a data set of $n$ 2D random points ($D = 2$) which we want to project onto an 1D-subspace ($M = 1$).\n",
    "\n",
    "#### 2.1. Generate data"
   ]
  },
  {
   "cell_type": "code",
   "execution_count": 4,
   "metadata": {},
   "outputs": [
    {
     "data": {
      "text/plain": [
       "array([[ 4.34147459,  4.743925  ,  3.28333618,  4.30306135,  3.88682071,\n",
       "         4.47302301,  3.943546  ,  4.1452603 ,  4.82739317,  4.74027002,\n",
       "         3.6611522 ,  3.66465613,  4.99005208,  3.77257113,  4.65334856,\n",
       "         3.57266381,  4.20216181,  3.56732757,  3.91215478,  4.51251646,\n",
       "         3.63486765,  3.73549451,  3.70491885,  3.8104105 ,  5.1704311 ,\n",
       "         3.77870405,  4.55826414,  3.44541208,  3.58816084,  3.59828818,\n",
       "         4.17437777,  3.21362205,  4.01856737,  3.97342457,  3.32833606,\n",
       "         3.76759714,  3.85139794,  3.58101485,  4.31697438,  3.35495985,\n",
       "         4.27849474,  3.07514872,  3.41983911,  4.19618389,  3.20624231,\n",
       "         3.85378832,  4.13129398,  3.234851  ,  3.07264756,  3.46887748,\n",
       "         5.34179679,  3.67438236,  2.85024596,  2.80605545,  4.59670528,\n",
       "         3.95948018,  4.07882031,  3.31053273,  4.23066624,  4.47090578,\n",
       "         3.46220402,  3.19909003,  4.81029911,  3.25076342,  3.24289004,\n",
       "         4.07855896,  3.67647687,  3.75693924,  3.82219367,  2.96160953,\n",
       "         3.62716236,  4.19575627,  4.92663372,  3.09362804,  3.40644589,\n",
       "         3.89327205,  4.65838073,  3.76324731,  4.57948773,  3.74672781,\n",
       "         3.83074742,  3.23073773,  5.50429662,  3.46071938,  3.4316996 ,\n",
       "         5.37958067,  3.401629  ,  4.50479271,  4.66548003,  2.53513551,\n",
       "         3.53089479,  3.87932091,  4.37946292,  4.70315073,  4.47566979,\n",
       "         3.78820739,  2.64124842,  3.92464062,  4.18671368,  3.86729758,\n",
       "         2.97946798,  4.02660406,  3.70694185,  3.84094134,  3.91710228,\n",
       "         3.66836728,  3.61255074,  4.04952663,  4.07874514,  3.33227251,\n",
       "         4.21402146,  4.19787008,  3.38895778,  3.50981437,  4.80025244,\n",
       "         3.49247506,  3.98842917,  2.76059465,  3.76681998,  4.01146434,\n",
       "         3.75444087,  4.26012899,  4.12777505,  3.10783893,  4.01064399,\n",
       "         2.9860817 ,  3.2806435 ,  3.60650374,  5.22482492,  3.96074931,\n",
       "         4.03640145,  3.74063789,  4.67938735,  4.33010993,  3.66886054,\n",
       "         3.8449083 ,  4.17820348,  2.9354476 ,  3.33105494,  3.12015717,\n",
       "         4.10317432,  5.87006646,  4.00194232,  2.96230707,  4.7304121 ,\n",
       "         3.32344024,  4.28230591,  3.55237488,  3.59625295,  4.84809871,\n",
       "         3.41684046,  4.69038686,  3.4972132 ,  3.66835279,  4.14742959,\n",
       "         3.29013778,  4.85641588,  3.69563868,  4.12658987,  3.46060931,\n",
       "         3.68063388,  4.10858581,  5.49085778,  3.10107966,  3.5324167 ,\n",
       "         3.56420732,  4.11234473,  3.99479273,  4.03804966,  3.87113311,\n",
       "         5.63150734,  4.39448967,  4.0959859 ,  4.01426866,  4.60261522,\n",
       "         3.61523528,  3.79582041,  4.46924231,  4.17560658,  2.93214833,\n",
       "         5.02412582,  3.26091321,  3.87641355,  3.56807429,  4.91401911,\n",
       "         3.76913712,  3.78082444,  5.41117122,  2.99621499,  4.38361466,\n",
       "         2.87354377,  4.28944316,  4.23008765,  2.88144082,  3.58637299,\n",
       "         4.00658904,  3.57301252,  4.19284476,  3.56627541,  2.8128143 ],\n",
       "       [ 3.3692703 ,  4.16344249,  2.75985531,  3.80344453,  2.866063  ,\n",
       "         3.29084073,  3.45456096,  3.42552937,  3.67918831,  4.38078701,\n",
       "         2.64919147,  2.61420295,  3.75408298,  2.69596503,  4.18577214,\n",
       "         2.55879878,  3.16319466,  2.32537275,  3.86930921,  2.63087377,\n",
       "         1.79504849,  2.69929423,  2.60003859,  2.23786967,  3.87174487,\n",
       "         2.93353073,  3.84497652,  2.58605536,  2.9249312 ,  1.6688555 ,\n",
       "         3.28280505,  2.22143339,  2.32463066,  3.52635989,  2.83910887,\n",
       "         2.17096605,  2.74425811,  2.49410222,  3.54492025,  2.04893244,\n",
       "         2.75675234,  2.12002192,  1.8192851 ,  3.38129866,  1.5560702 ,\n",
       "         2.79290787,  2.83239856,  1.53000637,  2.18458826,  1.85463701,\n",
       "         4.62823048,  2.52104285,  2.22586361,  1.04685606,  3.2645017 ,\n",
       "         2.8720472 ,  2.75849038,  2.38034491,  3.81061997,  3.07566215,\n",
       "         3.51904517,  1.50847744,  3.75499115,  2.72655488,  2.45056373,\n",
       "         4.11838588,  2.77219367,  3.28401551,  3.70870168,  1.98086465,\n",
       "         2.46826229,  3.95384587,  3.96069826,  2.09805716,  2.42378561,\n",
       "         2.63932859,  4.02530544,  2.41035974,  3.78971984,  3.43529154,\n",
       "         3.23019417,  2.27018304,  5.33184115,  1.88358771,  2.52285297,\n",
       "         4.63890366,  3.18279746,  3.43326706,  3.92898611,  1.9319463 ,\n",
       "         2.82767233,  3.04452397,  2.6152697 ,  3.47555205,  3.04131737,\n",
       "         3.60614405,  1.21330248,  2.64903775,  2.20509122,  3.96062433,\n",
       "         2.17741874,  2.60826363,  2.41834318,  2.50231705,  2.29797809,\n",
       "         3.62311643,  2.60324085,  2.70206213,  3.04108911,  1.86893993,\n",
       "         3.7904459 ,  3.97262947,  2.30607964,  2.41694859,  4.20618559,\n",
       "         3.08760734,  2.54145088,  1.24543026,  2.80199657,  3.8085997 ,\n",
       "         2.30413233,  2.87401576,  4.13966595,  1.96730343,  2.72842596,\n",
       "         1.92386542,  2.02350912,  1.69455906,  4.43636171,  2.20432522,\n",
       "         2.98018788,  3.38136776,  3.93160992,  3.66881142,  2.31587927,\n",
       "         2.70907835,  3.39989224,  1.50316321,  2.10322033,  1.90022665,\n",
       "         3.45542218,  6.41110559,  2.51205259,  2.45617311,  3.73658432,\n",
       "         3.54290451,  3.38754579,  2.32465029,  1.94806099,  3.29853039,\n",
       "         3.22894716,  3.35165243,  3.0158155 ,  2.92712068,  3.5827498 ,\n",
       "         2.96172449,  3.99991799,  3.49314679,  2.87564319,  2.37535432,\n",
       "         2.3185194 ,  3.97803648,  4.63326063,  1.66096997,  2.00491091,\n",
       "         3.15812022,  3.3099627 ,  2.66191076,  3.49968699,  2.44055763,\n",
       "         4.50500261,  3.5252583 ,  2.87510174,  2.40955185,  3.12682197,\n",
       "         1.87186666,  3.45973586,  3.91188609,  2.01938233,  2.01095086,\n",
       "         4.41472475,  2.54131673,  3.38752031,  1.94087348,  2.95805689,\n",
       "         2.35145511,  2.22316501,  5.10155095,  2.27433911,  4.20410848,\n",
       "         1.93263027,  3.44638173,  2.3872016 ,  1.12073216,  2.50884141,\n",
       "         2.1250722 ,  3.00901744,  3.63128536,  3.19964526,  1.80135966]])"
      ]
     },
     "execution_count": 4,
     "metadata": {},
     "output_type": "execute_result"
    }
   ],
   "source": [
    "import numpy as np\n",
    "import matplotlib.pyplot as plt\n",
    "\n",
    "n = 200                 # Number of points\n",
    "mean = [4,3]            # Mean\n",
    "cov  = [[0.40, 0.45],   # Covariance matrix\n",
    "        [0.45, 0.80]]\n",
    "data = np.random.multivariate_normal(mean,cov, 200).T\n",
    "data"
   ]
  },
  {
   "cell_type": "markdown",
   "metadata": {},
   "source": [
    "Let's take a look at the data"
   ]
  },
  {
   "cell_type": "code",
   "execution_count": 61,
   "metadata": {},
   "outputs": [
    {
     "data": {
      "image/png": "[encoded data removed]",
      "text/plain": [
       "<matplotlib.figure.Figure at 0x29e01358a20>"
      ]
     },
     "metadata": {},
     "output_type": "display_data"
    }
   ],
   "source": [
    "fig = plt.figure(figsize=(3,3))\n",
    "plt.scatter(data[0,:], data[1,:])\n",
    "plt.xlim(0,7), plt.ylim(0,7)\n",
    "plt.xlabel('x1')\n",
    "plt.ylabel('x2')\n",
    "plt.title('Our Data')\n",
    "plt.show()"
   ]
  },
  {
   "cell_type": "markdown",
   "metadata": {},
   "source": [
    "#### 2.2 Compute the data's mean and covariance matrix\n",
    "\n",
    "Given the data $\\{\\texttt{x}_n\\}$, its mean $\\overline{\\texttt{x}}$ and covariance matrix $\\textbf{S}$ are computed according to:\n",
    "$$\\overline{\\texttt{x}} = \\frac{1}{N}\\sum_{n=1}^N \\texttt{x}_n, \n",
    "\\hspace{1cm} \\textbf{S} = \\frac{1}{N}\\sum_{n=1}^N (\\texttt{x}_n - \\overline{\\texttt{x}})(\\texttt{x}_n - \\overline{\\texttt{x}})^\\texttt{T}  $$"
   ]
  },
  {
   "cell_type": "code",
   "execution_count": 62,
   "metadata": {},
   "outputs": [
    {
     "name": "stdout",
     "output_type": "stream",
     "text": [
      "Data mean (centroid):\n",
      " [[ 3.98391764]\n",
      " [ 2.94926657]]\n",
      "Data covariance matrix:\n",
      " [[ 0.3902082   0.44695333]\n",
      " [ 0.44695333  0.81316192]]\n",
      "\n",
      "Compare to the ones used for generating the data:\n",
      "Chosen mean:\n",
      " [4, 3]\n",
      "Chosen covariance matrix:\n",
      " [[ 0.4   0.45]\n",
      " [ 0.45  0.8 ]]\n"
     ]
    }
   ],
   "source": [
    "#Data mean\n",
    "data_mean = np.mean(data, axis=1).reshape(-1,1)\n",
    "\n",
    "#Data covariance matrix (you can use np.cov(data))\n",
    "S = []\n",
    "for point in data.T:\n",
    "    diff = point - data_mean.T\n",
    "    S.append(np.dot(diff.T,diff))\n",
    "S = np.mean(S, axis=0)\n",
    "\n",
    "print(\"Data mean (centroid):\\n\", data_mean)\n",
    "print(\"Data covariance matrix:\\n\",S)\n",
    "\n",
    "print(\"\\nCompare to the ones used for generating the data:\")\n",
    "print(\"Chosen mean:\\n\", mean)\n",
    "print(\"Chosen covariance matrix:\\n\", np.matrix(cov))"
   ]
  },
  {
   "cell_type": "markdown",
   "metadata": {},
   "source": [
    "___\n",
    "### 3. Maximum variance formulation\n",
    "\n",
    "**Goal**: Find the principal direction (vector $\\textbf{u}_1$) onto which the variance of the projected data is maximized.\n",
    "\n",
    "We're only interested in the direction $\\textbf{u}_1$, so we can choose it to be an unit vector ($\\textbf{u}_1^\\texttt{T}\\textbf{u}_1 = 1$) without loss of generality. \n",
    "\n",
    "Then, each data point $\\texttt{x}_n$ is projected onto a esclar given by $\\textbf{u}_1^\\texttt{T}\\texttt{x}_n$. In the end, the mean of all projections (scalars) is equivalent to the projection of the data mean, given by $\\textbf{u}_1^\\texttt{T}\\overline{\\texttt{x}}$.\n",
    "\n",
    "Now, the variance (what we want to **maximize**) is given by:\n",
    "$$\n",
    "variance = \\frac{1}{N}\\sum_{n=1}^N (\\textbf{u}_1^\\texttt{T}\\texttt{x}_n - \\textbf{u}_1^\\texttt{T}\\overline{\\texttt{x}})^2 = \n",
    "\\textbf{u}_1^\\texttt{T}\\textbf{S}\\textbf{u}_1\n",
    "$$\n",
    "Note that the variance of the **projected data** can also be given in terms of the covariance matrix ($\\textbf{S}$) of the **original data**, defined [here](#2.2-Compute-the-data's-mean-and-covariance-matrix).\n",
    "\n",
    "#### 3.1 Defining function to be optimized\n",
    "\n",
    "So far, we want to find the vector $\\textbf{u}_1$ which maximizes the variance $\\textbf{u}_1^\\texttt{T}\\textbf{S}\\textbf{u}_1$. Note that if we'd allow the magnitude of $\\textbf{u}_1$ to increase, the variance would as well and the maximization would lead to $\\Vert\\textbf{u}_1\\Vert\\rightarrow\\infty$. In order to to prevent that, this has to be a **constrained maximization**. The appropriate constraint is the normalization condition $\\textbf{u}_1^\\texttt{T}\\textbf{u}_1 = 1$, which is enforced by introducing a Lagrange multiplier $\\lambda_1$. We can then make an **unconstrained maximization** of\n",
    "\n",
    "$$\n",
    "\\mathcal{L}(\\textbf{u}_1,\\lambda_1) = \\textbf{u}_1^\\texttt{T}\\textbf{S}\\textbf{u}_1 + \\lambda_1\\left(1 - \\textbf{u}_1^\\texttt{T}\\textbf{u}_1\\right).\n",
    "$$\n",
    "\n",
    "Now, $\\mathcal{L}(\\textbf{u}_1,\\lambda_1)$ can be maximized with respect to $\\textbf{u}_1$, by setting its derivative to zero:\n",
    "\n",
    "$$ \\frac{\\partial\\mathcal{L}(\\textbf{u}_1,\\lambda_1)}{\\partial\\textbf{u}_1} = 0 $$ \n",
    "$$\n",
    "\\frac{\\partial}{\\partial\\textbf{u}_1}\\left[\\textbf{u}_1^\\texttt{T}\\textbf{S}\\textbf{u}_1 + \\lambda_1\\left(1 - \\textbf{u}_1^\\texttt{T}\\textbf{u}_1\\right)\\right] = 0\n",
    "$$\n",
    "$$\n",
    "\\frac{\\partial}{\\partial\\textbf{u}_1}\\left[\\textbf{u}_1^\\texttt{T}\\textbf{S}\\textbf{u}_1\\right] + \\frac{\\partial}{\\partial\\textbf{u}_1}\\left[\\lambda_1\\left(1 - \\textbf{u}_1^\\texttt{T}\\textbf{u}_1\\right)\\right] = 0\n",
    "$$\n",
    "$$\n",
    "\\textbf{u}_1^\\texttt{T}\\left(\\textbf{S}+\\textbf{S}^\\texttt{T}\\right) - \\lambda_1\\textbf{u}_1^\\texttt{T}\\left(\\textbf{I}+\\textbf{I}^\\texttt{T}\\right) = 0 \n",
    "$$\n",
    "$$\\textbf{u}_1^\\texttt{T}\\textbf{S} = \\lambda_1\\textbf{u}_1^\\texttt{T}$$\n",
    "$$\\textbf{S}\\textbf{u}_1 = \\lambda_1\\textbf{u}_1$$\n",
    "\n",
    "In the derivation above, the $\\textbf{S}$ matrix's symmetry was used. \n",
    "\n",
    "Finally, the last equality shows us that, in order to maximize the variance, $\\textbf{u}_1$ must be an eigenvector of $\\textbf{S}$, with a correspondent eigenvalue equal to $\\lambda_1$. The last equality can also be rearranged to $\\textbf{u}_1^\\texttt{T}\\textbf{S}\\textbf{u}_1 = \\lambda_1$, which equals the $variance$! The vector $\\textbf{u}_1$ is the **first principal component** of the data. \n",
    "\n",
    "> **Summing up:** The variance of the projected data is maximized if the projection is performed along the direction of the covariance matrix's eigenvector that is coupled with the its largest eigenvalue. By doing so, the projected data's variance equals that eigenvalue, and it's the higher variance you can get. "
   ]
  },
  {
   "cell_type": "markdown",
   "metadata": {},
   "source": [
    "\n",
    "#### 3.2 Computing the principal components"
   ]
  },
  {
   "cell_type": "code",
   "execution_count": 67,
   "metadata": {},
   "outputs": [
    {
     "name": "stdout",
     "output_type": "stream",
     "text": [
      "Eigenvalues =  [ 0.10722602  1.0961441 ]\n",
      "Eigenvectors =  [[-0.84489449 -0.53493299]\n",
      " [ 0.53493299 -0.84489449]] \n",
      "\n",
      "u1 = [[ 0.53493299]\n",
      " [ 0.84489449]]\n",
      "u2 =  [[-0.84489449]\n",
      " [ 0.53493299]]\n"
     ]
    }
   ],
   "source": [
    "eig_values,eig_vectors = np.linalg.eig(S)     #Get the eigenvectors and eigenvalues of S\n",
    "print(\"Eigenvalues = \", eig_values)\n",
    "print(\"Eigenvectors = \", eig_vectors, \"\\n\")\n",
    "        \n",
    "u1 = eig_vectors[:,eig_values.argmax()].reshape(-1,1)     #Get the eigenvector that is coupled with the largest eigenvalue\n",
    "u2 = eig_vectors[:,eig_values.argmin()].reshape(-1,1)     #The second principal component is the one with the smallest eigenvalue\n",
    "\n",
    "u1 = u1 if u1[1,0]>0 else -u1                 #This forces the phase of u1 between 0 and 180º (Not really needed)\n",
    "u2 = u2 if u2[1,0]>0 else -u2 \n",
    "\n",
    "print(\"u1 =\", u1)\n",
    "print(\"u2 = \", u2)"
   ]
  },
  {
   "cell_type": "markdown",
   "metadata": {},
   "source": [
    "How well does the eigenvector u1 explain the variability of the data? That can be measured by the **ratio of explained variance**. The original data having $n$ eigenvectors, it is explained by $k \\leq n$ eigenvectors with the following ratio: \n",
    "$$\n",
    "r_k = \\frac{\\sum_{i=1}^{k}\\lambda_k^2}{\\sum_{i=1}^{n}\\lambda_k^2}\n",
    "$$"
   ]
  },
  {
   "cell_type": "code",
   "execution_count": 85,
   "metadata": {},
   "outputs": [
    {
     "name": "stdout",
     "output_type": "stream",
     "text": [
      "The principal component explains 99.1% of the data variability\n"
     ]
    }
   ],
   "source": [
    "ratio = max(eig_values)**2/sum(eig_values**2)\n",
    "print(\"The principal component explains {0:.1f}% of the data variability\".format(ratio*100))"
   ]
  },
  {
   "cell_type": "markdown",
   "metadata": {},
   "source": [
    "#### 3.3 Plotting the data, along with its principal components"
   ]
  },
  {
   "cell_type": "code",
   "execution_count": 5,
   "metadata": {},
   "outputs": [
    {
     "data": {
      "image/png": "[encoded data removed]",
      "text/plain": [
       "<matplotlib.figure.Figure at 0x29e01368588>"
      ]
     },
     "metadata": {},
     "output_type": "display_data"
    }
   ],
   "source": [
    "fig = plt.figure(figsize=(5,5))\n",
    "plt.scatter(data[0,:], data[1,:], label=\"Data\")\n",
    "plt.xlim(0,7), plt.ylim(0,7)\n",
    "plt.xlabel('X'),plt.ylabel('Y')\n",
    "plt.title('Our Data')\n",
    "\n",
    "#Let's add arrows to represent the principal components. We can center the arrows over the data's centroid (data_mean).\n",
    "arrow1 = plt.arrow(data_mean[0,0], data_mean[1,0], u1[0,0], u1[1,0], width=0.06, head_width=0.18, head_length=0.2, fc='y', ec='k')\n",
    "arrow2 = plt.arrow(data_mean[0,0], data_mean[1,0], u2[0,0], u2[1,0], width=0.06, head_width=0.18, head_length=0.2, fc='r', ec='k')\n",
    "plt.legend([arrow1,arrow2], ['Principal','Secondary'])\n",
    "plt.show()"
   ]
  },
  {
   "cell_type": "markdown",
   "metadata": {},
   "source": [
    "#### 3.4 Project the data onto u1, compute the variance and plot\n",
    "\n",
    "We know that if we project the data onto $\\textbf{u}_1$ we get the largest variance, which equals the largest eigenvalue of $\\textbf{S}$. \n",
    "\n",
    "Let's verify that by computing the variance of the projected data, which can be done in two manners."
   ]
  },
  {
   "cell_type": "code",
   "execution_count": 6,
   "metadata": {},
   "outputs": [
    {
     "name": "stdout",
     "output_type": "stream",
     "text": [
      "Projected data variance = 0.900607694925\n",
      "Same variance using S   = 0.126355063396\n",
      "As expected, the variance is equal to the largest eigenvalue: 0.900607694925\n"
     ]
    }
   ],
   "source": [
    "#Computing the variance using the data per se\n",
    "projected_data = [np.dot(u1.T,v) for v in data.T]\n",
    "projected_data_mean = np.dot(u1.T,data_mean)\n",
    "projected_data_var = np.mean([(v - projected_data_mean)**2 for v in projected_data])\n",
    "\n",
    "#Compute the variance using S\n",
    "projected_data_var_ = (u1.T*S*u1)[0,0]\n",
    "\n",
    "print(\"Projected data variance =\", projected_data_var)\n",
    "print(\"Same variance using S   =\", projected_data_var_)\n",
    "print(\"As expected, the variance is equal to the largest eigenvalue:\", eig_values.max())"
   ]
  },
  {
   "cell_type": "markdown",
   "metadata": {},
   "source": [
    " Now let's plot the projected data along the first principal component."
   ]
  },
  {
   "cell_type": "code",
   "execution_count": 7,
   "metadata": {},
   "outputs": [
    {
     "data": {
      "image/png": "[encoded data removed]",
      "text/plain": [
       "<matplotlib.figure.Figure at 0x29e014dc550>"
      ]
     },
     "metadata": {},
     "output_type": "display_data"
    }
   ],
   "source": [
    "fig = plt.figure(figsize=(10,2))\n",
    "plt.scatter(projected_data, np.zeros(len(projected_data)), label=\"Data\")\n",
    "arrow2 = plt.arrow(projected_data_mean, 0, 0, 1, width=0.08, head_width=0.18, head_length=0.2, fc='r', ec='k')\n",
    "arrow1 = plt.arrow(projected_data_mean, 0, 1, 0, width=0.08, head_width=0.22, head_length=0.2, fc='y', ec='k')\n",
    "plt.xlim(0,10), plt.ylim(-1,1.5)\n",
    "plt.xlabel('PC 1'),plt.ylabel('PC 2')\n",
    "plt.legend([arrow1,arrow2], ['Principal','Secondary'])\n",
    "plt.title('Projected Data onto u1')\n",
    "plt.show()"
   ]
  },
  {
   "cell_type": "markdown",
   "metadata": {},
   "source": [
    "#### 3.4 [Extra] Plot the variance against different  vector directions\n",
    "\n",
    "As already proved, $\\textbf{u}_1$ is the vector which maximizes the variance. For this simple example, we can observe how the variance changes if we project the data along different directions."
   ]
  },
  {
   "cell_type": "code",
   "execution_count": 8,
   "metadata": {},
   "outputs": [
    {
     "name": "stdout",
     "output_type": "stream",
     "text": [
      "Maximum is = 0.9006 for an angle of = 54.1°\n",
      "Again, we have the same results! u1 has an angle of 54.2°\n"
     ]
    },
    {
     "data": {
      "image/png": "[encoded data removed]",
      "text/plain": [
       "<matplotlib.figure.Figure at 0x29e01459f28>"
      ]
     },
     "metadata": {},
     "output_type": "display_data"
    }
   ],
   "source": [
    "angles = np.arange(0, np.pi, 0.001)          #Let's compute the variance for angles varying from 0° to 180°\n",
    "\n",
    "var_by_angle = []\n",
    "for angle in angles:\n",
    "    u = np.array([np.cos(angle), np.sin(angle)]).reshape(-1,1)\n",
    "    var_ = u.T.dot(S).dot(u)[0,0]\n",
    "    var_by_angle.append(var_)\n",
    "\n",
    "max_var = np.max(var_by_angle)                                #Get the maximum  variance\n",
    "max_var_angle = angles[np.argmax(var_by_angle)]*180/np.pi     #Get the angle for maximum variance\n",
    "\n",
    "print(\"Maximum is = {0:.4f} \".format(max_var), end='')\n",
    "print(\"for an angle of = {0:.1f}\\u00b0\".format(max_var_angle))\n",
    "print(\"Again, we have the same results! u1 has an angle of {0:.1f}\\u00b0\".format(np.arctan2(u1[1,0], u1[0,0])*180/np.pi))\n",
    "\n",
    "fig = plt.figure(figsize=(10,2))\n",
    "plt.plot(angles,var_by_angle)\n",
    "plt.scatter(angles[np.argmax(var_by_angle)], max_var, color='r')\n",
    "plt.xlim(0,np.pi), plt.ylim(-0.1*max_var, 1.1*max_var)\n",
    "plt.xlabel('PC 1'),plt.ylabel('PC 2')\n",
    "plt.title('Projected Data onto u1')\n",
    "plt.show()"
   ]
  },
  {
   "cell_type": "markdown",
   "metadata": {},
   "source": [
    "### 4. Minimum-error formulation\n",
    "\n",
    "Originally, our data has _D_ dimensions, since each sample is described by _D_ coordinates. Despite the original _D_ axes, we can always represent the same data in a different _D-dimensional_ basis, i.e., in a different frame. \n",
    "\n",
    "Firstly, we're looking for a specific orthonormal set of D-dimensional basis vectors $\\{\\textbf{u}_i\\}$ on which we can describe our data. They are orthonormal, therefore satisfying $\\textbf{u}_i^\\texttt{T}\\textbf{u}_j = \\delta_{ij}$. Also, since this basis is complete, the vectors span the whole _D-dimensional_ space, which means that any vector can be expressed as a linear combination of them: \n",
    "$$\n",
    "\\textbf{x}_n = \\sum_{i=1}^D \\alpha_{ni}\\textbf{u}_i, \\hspace{1cm} \\alpha_{ni} = \\textbf{x}_n^\\texttt{T}\\textbf{u}_i, \\hspace{1cm}\\textbf{x}_n = \\sum_{i=1}^D (\\textbf{x}_n^\\texttt{T}\\textbf{u}_i)\\textbf{u}_i,\n",
    "$$\n",
    "As shown above, the scalar $\\alpha_{ni}$ is the projection of the n-th vector onto the i-th basis vector.\n",
    "\n",
    "So far, no dimensionaly reduction was done, we simply rotated the data. However, the idea is to try to represent that data using _M_ dimensions (_M < D_), but keeping as much information as possible. If the rotation is done properly, information might end up concentrated along a smaller number of dimensions. To ignore the other _D-M_ dimensions, we can set their coefficients to be the same for all the data.\n",
    "$$\n",
    "\\textbf{x}_n = \\sum_{i=1}^M \\alpha_{ni}\\textbf{u}_i + \\sum_{i=M+1}^D \\alpha_{ni}\\textbf{u}_i\n",
    "$$\n",
    "$$\n",
    "\\tilde{\\textbf{x}}_n = \\sum_{i=1}^M z_{ni}\\textbf{u}_i + \\sum_{i=M+1}^D b_i\\textbf{u}_i\n",
    "$$\n",
    "\n",
    "Note that the second summation on $\\tilde{\\textbf{x}}_n$ represent all dimensions we are discarding. Now, we define a cost function _J_ to be minimized, as follows:\n",
    "$$\n",
    "J = \\frac{1}{N}\\sum_{n=1}^N \\Vert \\textbf{x}_n - \\tilde{\\textbf{x}}_n\\Vert^2 $$\n",
    "$$\n",
    "J= \\frac{1}{N}\\sum_{n=1}^N [\\textbf{x}_n - \\tilde{\\textbf{x}}_n]^\\texttt{T}[\\textbf{x}_n - \\tilde{\\textbf{x}}_n]\n",
    "$$\n",
    "\n",
    "Replacing $\\textbf{x}_n$ and $\\tilde{\\textbf{x}}_n$, and using a property from the transpose of a matrix, we have the following:\n",
    "$$\n",
    "J = \\frac{1}{N}\\sum_{n=1}^N \\left[\\sum_{i=1}^M (\\alpha_{ni}-z_{ni})\\textbf{u}_i + \\sum_{i=M+1}^D (\\alpha_{ni}-b_{i})\\textbf{u}_i\\right]^\\texttt{T}\\left[\\sum_{i=1}^M (\\alpha_{ni}-z_{ni})\\textbf{u}_i + \\sum_{i=M+1}^D (\\alpha_{ni}-b_{i})\\textbf{u}_i\\right]\n",
    "$$\n",
    "$$\n",
    "J = \\frac{1}{N}\\sum_{n=1}^N \\left[\\sum_{i=1}^M (\\alpha_{ni}-z_{ni})\\textbf{u}_i^\\texttt{T} + \\sum_{i=M+1}^D (\\alpha_{ni}-b_{i})\\textbf{u}_i^\\texttt{T}\\right]\\left[\\sum_{i=1}^M (\\alpha_{ni}-z_{ni})\\textbf{u}_i + \\sum_{i=M+1}^D (\\alpha_{ni}-b_{i})\\textbf{u}_i\\right]\n",
    "$$\n",
    "\n",
    "Now, we can multiply each term, generating four product combinations. \n",
    "\n",
    "$$\n",
    "J = \\frac{1}{N}\\sum_{n=1}^N \\Bigg[\\sum_{i=1}^M (\\alpha_{ni}-z_{ni})\\textbf{u}_i^\\texttt{T}\\sum_{i=1}^M (\\alpha_{ni}-z_{ni})\\textbf{u}_i + $$\n",
    "<font color='red'>$$\n",
    "\\sum_{i=1}^M (\\alpha_{ni}-z_{ni})\\textbf{u}_i^\\texttt{T}\\sum_{i=M+1}^D (\\alpha_{ni}-b_{i})\\textbf{u}_i +  \n",
    "\\sum_{i=M+1}^D (\\alpha_{ni}-b_{i})\\textbf{u}_i^\\texttt{T}\\sum_{i=1}^M (\\alpha_{ni}-z_{ni})\\textbf{u}_i \n",
    "$$</font>\n",
    "$$\n",
    "+ \\sum_{i=M+1}^D (\\alpha_{ni}-b_{i})\\textbf{u}_i^\\texttt{T}\\sum_{i=M+1}^D (\\alpha_{ni}-b_{i})\\textbf{u}_i\\Bigg]\n",
    "$$\n",
    "\n",
    "The products shown in <font color='red'>**red**</font> equal **zero**, since they include inner products between orthonormal vectors. That can be noticed by looking at the summations indices: while one goes from 1 to M, the other goes from M+1 to D. \n",
    "\n",
    "As for each of the other two products, we have the cross-multiplication of two sums, each with $M$ (or $D$) terms. That would generate $M^2$ (or $D^2$) inner products. However, those products are non-zero only when their indices are the same, again due to the orthonormal condition. Considering such simplifcations, and using $\\alpha_{ni} = \\textbf{x}_n^\\texttt{T}\\textbf{u}_i$, we have the following:\n",
    "\n",
    "$$\n",
    "J = \\frac{1}{N}\\sum_{n=1}^N \\Bigg[\\sum_{i=1}^M (\\textbf{x}_n^\\texttt{T}\\textbf{u}_i-z_{ni})^2 + \\sum_{i=M+1}^D (\\textbf{x}_n^\\texttt{T}\\textbf{u}_i-b_{i})^2\\Bigg]\n",
    "$$\n",
    "\n",
    "Now we can minimize $J$ with respect to the quantities $z_{ni}$ and $b_{i}$. Let's consider the first ones to start with, setting its derivative to zero:\n",
    "\n",
    "$$\n",
    "\\frac{\\partial J}{\\partial z_{ni}} = \\frac{\\partial}{\\partial z_{ni}}\\left[ (\\textbf{x}_n^\\texttt{T}\\textbf{u}_i-z_{ni})^2\\right] = -2(\\textbf{x}_n^\\texttt{T}\\textbf{u}_i-z_{ni}) = 0\\hspace{0.5cm} \\Rightarrow \\hspace{0.5cm} z_{ni} = \\textbf{x}_n^\\texttt{T}\\textbf{u}_i\n",
    "$$\n",
    "\n",
    "This result shows that, in order the mininize $J$, the coefficients that should be used along with the **dimensions we want to keep** should be their respective original $\\alpha$ coefficients, a result that one's intuition could expect. Now, let's consider the $b_{i}$ coefficients, which do not depend on the sample ($n$). \n",
    "\n",
    "$$\n",
    "\\frac{\\partial J}{\\partial b_{i}} = \\frac{\\partial}{\\partial b_{i}}\\Bigg[\\frac{1}{N}\\sum_{n=1}^N  (\\textbf{x}_n^\\texttt{T}\\textbf{u}_i-b_{i})^2\\Bigg] = \n",
    "\\frac{1}{N}\\sum_{n=1}^N\\frac{\\partial}{\\partial b_{i}}\\Big[  (\\textbf{x}_n^\\texttt{T}\\textbf{u}_i-b_{i})^2\\Big] = \n",
    "\\frac{1}{N}\\sum_{n=1}^N-2(\\textbf{x}_n^\\texttt{T}\\textbf{u}_i-b_{i}) =\n",
    "\\frac{1}{N}\\sum_{n=1}^N-2(\\textbf{x}_n^\\texttt{T}\\textbf{u}_i-b_{i}) =\\\\\n",
    "= \\frac{1}{N}\\sum_{n=1}^N-2\\textbf{x}_n^\\texttt{T}\\textbf{u}_i + \\frac{1}{N}\\sum_{n=1}^N2b_{i} =  \n",
    "-2\\left(\\frac{1}{N}\\sum_{n=1}^N\\textbf{x}_n^\\texttt{T}\\right)\\textbf{u}_i + 2b_{i} = -2\\overline{\\textbf{x}}^\\texttt{T}\\textbf{u}_i + 2b_{i} = 0 \\hspace{0.5cm} \\Rightarrow \\hspace{0.5cm} b_{i} = \\overline{\\textbf{x}}^\\texttt{T}\\textbf{u}_i\n",
    "$$\n",
    "\n",
    "This second result shows us that, in order to minimize $J$, the coefficients that should be used along with the **dimensions we want to discard** should be the mean of the data on those dimensions. The unwanted dimensions are then being reduced to their mean.\n",
    "\n",
    "Let's see what happens to the projection error $\\textbf{x}_n - \\tilde{\\textbf{x}}_n$ when we plug in the results:\n",
    "$$\n",
    "\\textbf{x}_n - \\tilde{\\textbf{x}}_n = \\sum_{i=1}^M (\\alpha_{ni}-\\alpha_{ni})\\textbf{u}_i + \\sum_{i=M+1}^D (\\alpha_{ni}-\\overline{\\textbf{x}}^\\texttt{T}\\textbf{u}_i)\\textbf{u}_i = \\sum_{i=M+1}^D (\\alpha_{ni}-\\overline{\\textbf{x}}^\\texttt{T}\\textbf{u}_i)\\textbf{u}_i\n",
    "$$\n",
    "$$\n",
    "\\textbf{x}_n - \\tilde{\\textbf{x}}_n = \\sum_{i=M+1}^D \\left[(\\textbf{x}_n^\\texttt{T}-\\overline{\\textbf{x}}^\\texttt{T})\\textbf{u}_i\\right]\\textbf{u}_i\n",
    "$$\n",
    "As can be seen, the projection error is a linear combination of the vectors ${\\textbf{u}_i}$ relative to the discarded dimensions. Hence, the projection vector (displacement between $\\textbf{x}_n$ and $\\tilde{\\textbf{x}}_n$) belongs to a subspace that is orthogonal to the principal one. \n",
    "\n",
    "Now we can replace the results found on the expression for $J$:\n",
    "$$\n",
    "J = \\frac{1}{N}\\sum_{n=1}^N \\Bigg[\\sum_{i=1}^M (\\textbf{x}_n^\\texttt{T}\\textbf{u}_i-\\textbf{x}_n^\\texttt{T}\\textbf{u}_i)^2 + \\sum_{i=M+1}^D (\\textbf{x}_n^\\texttt{T}\\textbf{u}_i-\\overline{\\textbf{x}}^\\texttt{T}\\textbf{u}_i)^2\\Bigg]\\\\\n",
    "J = \\frac{1}{N}\\sum_{n=1}^N\\sum_{i=M+1}^D \\{\\textbf{x}_n^\\texttt{T}\\textbf{u}_i-\\overline{\\textbf{x}}^\\texttt{T}\\textbf{u}_i\\}^2 = \n",
    "\\sum_{i=M+1}^D\\Bigg[\\frac{1}{N}\\sum_{n=1}^N \\{\\textbf{x}_n^\\texttt{T}\\textbf{u}_i-\\overline{\\textbf{x}}^\\texttt{T}\\textbf{u}_i\\}^2\\Bigg] \\\\\n",
    "J  = \\sum_{i=M+1}^D \\textbf{u}_i^\\texttt{T}\\textbf{S}\\textbf{u}_i\n",
    "$$\n",
    "\n",
    "At this point, we've got a cost function that is the **dual** of the one we found in the Maximum-variance approach. The difference is that now we're not focusing on the principal subspace, but on the secondary one (where projection errors live in). Because of that, we're looking for the smallest eigenvectors of $\\textbf{S}$, which spans the secondary subspace. Finally, the solution is found by choosing $\\{\\textbf{u}_i\\}$ to be the eigenvectors of the matrix in $\\textbf{S}\\textbf{u}_i = \\lambda_i\\textbf{u}_i$.\n",
    "\n",
    "The overall distortion measure will be the sum of the eigenvalues relative to the secondary subspace: $J =  \\sum_{i=M+1}^D \\lambda_i$"
   ]
  },
  {
   "cell_type": "markdown",
   "metadata": {},
   "source": [
    "___\n",
    "### 5. References"
   ]
  },
  {
   "cell_type": "markdown",
   "metadata": {},
   "source": [
    "[1] Bishop, Christopher M. Pattern recognition and machine learning. springer, 2006."
   ]
  }
 ],
 "metadata": {
  "kernelspec": {
   "display_name": "Python 3",
   "language": "python",
   "name": "python3"
  },
  "language_info": {
   "codemirror_mode": {
    "name": "ipython",
    "version": 3
   },
   "file_extension": ".py",
   "mimetype": "text/x-python",
   "name": "python",
   "nbconvert_exporter": "python",
   "pygments_lexer": "ipython3",
   "version": "3.5.2"
  }
 },
 "nbformat": 4,
 "nbformat_minor": 2
}
