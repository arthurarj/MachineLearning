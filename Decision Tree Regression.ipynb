{
 "cells": [
  {
   "cell_type": "markdown",
   "metadata": {},
   "source": [
    "## Decision Tree Regression\n",
    "___\n",
    "\n",
    "1. [Introduction](#1.-Introduction) <br><br>\n",
    "2. [Synthetic data creation](#2.-Synthetic-data-creation) <br>\n",
    "    2.1 [Generate data](#2.1.-Generate-data) <br>\n",
    "    2.2 [Compute the data's mean and covariance matrix](#2.2-Compute-the-data's-mean-and-covariance-matrix) <br><br>\n",
    "\n",
    "3. [Synthetic data creation](#2.-Synthetic-data-creation)<br>\n",
    "    3.1. [Variance maximization formulation](#3.-Variance-maximization-formulation)<br>\n",
    "    3.2. [Defining function to be optimized](#3.1-Defining-function-to-be-optimized)<br>\n",
    "    3.3. [Plotting the data, along with its principal components](#3.3-Plotting-the-data,-along-with-its-principal-components)<br>\n",
    "    3.4. [Project the data onto the first principal component](#3.4-Project-the-data-onto-u1,-compute-the-variance-and-plot) <br>\n",
    "    3.5. [[Extra] Plot the variance against different vector directions](3.4-[Extra]-Plot-the-variance-against-different--vector-directions)<br><br>\n",
    "    \n",
    "4. [References](#4.-References)<br>\n",
    "___"
   ]
  },
  {
   "cell_type": "markdown",
   "metadata": {},
   "source": [
    "### 1. Introdução\n",
    "\n",
    "<p style=\"text-align: justify;\">  \n",
    "Árvores de decisão são algoritmos de aprendizado de máquina que predizem uma saída desejada a partir da aplicação de um **conjunto hierárquico de regras** à entrada. Tal saída pode ser tanto um valor numérico, o que leva a problema de regressão, quanto um valor categórico, onde tem-se um problema de classificação. <br><br>\n",
    "\n",
    "Embora o princípio seja um só, grande parte dos exemplos sobre árvores de decisão volta-se para problemas de classificação. Poucas vezes um problema de regressão é utilizado para ilustrar a intuição da árvore de decisão. \n",
    "</p>\n",
    "\n",
    "Vamos a um exemplo pouco prático, mas de boa ilustração. Imagine que você deseja supor a altura de uma criança   \n",
    "\n",
    "Um professor de Educação Física reuniu seus alunos num certo dia e mediu a altura de cada um deles, fazendo uma lista com suas alturas e idades. Só depois percebeu que um aluno havia faltado a aula. Sua idade ele facilmente descobriu pelo Facebook. Ele podia simplesmente ter perguntado a altura A idade ele facilmente descobriu no Facebook\n",
    "\n",
    "anotando  . em um um dado  tenha  uma lista contendo as alturas dos alunos de uma sala de aula, o que te dá uma ideia da faixa de estatura dos alunos, digamos que seja de 1.40m a 1.80m. Infelizmente, quando a lista foi feitaPor motivos inexplicáveis, você foi desafiado a adivinhar a altura de um novo aluno está interessado em  , Tem a se e você está interessado. o Antes de entrar na ideia da árvore de decisão, vamos lembrar da velha busca binária.\n"
   ]
  },
  {
   "cell_type": "markdown",
   "metadata": {},
   "source": [
    "<#define MACRO|value>\n",
    "Use <#MACRO>"
   ]
  },
  {
   "cell_type": "code",
   "execution_count": 2,
   "metadata": {
    "collapsed": true
   },
   "outputs": [],
   "source": [
    "# Importing the libraries\n",
    "import numpy as np\n",
    "import matplotlib.pyplot as plt\n",
    "import pandas as pd\n",
    "from ipywidgets import interactive"
   ]
  },
  {
   "cell_type": "code",
   "execution_count": 3,
   "metadata": {
    "collapsed": true
   },
   "outputs": [],
   "source": [
    "# Importing the dataset\n",
    "dataset = pd.read_csv('Position_Salaries.csv')\n",
    "X = dataset.iloc[:, 1:2].values\n",
    "y = dataset.iloc[:, 2].values"
   ]
  },
  {
   "cell_type": "code",
   "execution_count": 4,
   "metadata": {
    "collapsed": true
   },
   "outputs": [],
   "source": [
    "class RegressionTree():\n",
    "    \n",
    "    def __init__(self, min_samples_split = 2):\n",
    "        self.root = self.Node()\n",
    "        self.min_samples_split = min_samples_split\n",
    "        pass\n",
    "    \n",
    "    class Node():\n",
    "        def __init__(self, parent = None):\n",
    "            self.parent = parent\n",
    "            self.left_child  = None\n",
    "            self.right_child = None\n",
    "            self.threshold   = None\n",
    "            self.isLeaf      = True\n",
    "            self.output      = None\n",
    "\n",
    "    def select_split_point(self, X, y, metric = 'mse'):\n",
    "        grid = np.arange(np.min(X),np.max(X),0.01*(np.max(X)-np.min(X)))\n",
    "        left  = [np.mean([(split - x)**2 for x in X if x <= split]) for split in grid]\n",
    "        right = [np.mean([(split - x)**2 for x in X if x > split]) for split in grid]\n",
    "        return grid[np.argmin([l+r for l,r in zip(left,right)])]\n",
    "        \n",
    "    def split(self, parent, X, y):\n",
    "            \n",
    "        #Not a leaf\n",
    "        parent.isLeaf = False\n",
    "\n",
    "        #Select the best X split point\n",
    "        best_split = self.select_split_point(X, y, 'mse')\n",
    "        \n",
    "        #Update threshold\n",
    "        parent.threshold = best_split\n",
    "\n",
    "        #Create children\n",
    "        left_child  = self.Node(parent = parent)\n",
    "        right_child = self.Node(parent = parent)\n",
    "\n",
    "        #Split data\n",
    "        X_l, X_r = X[X <= best_split].reshape(-1,1), X[X > best_split].reshape(-1,1)\n",
    "        y_l, y_r = y[X[:,0] <= best_split], y[X[:,0] > best_split] \n",
    "\n",
    "        if len(X_l) >= self.min_samples_split:\n",
    "            self.split(left_child, X_l, y_l)\n",
    "        else:\n",
    "            left_child.output = np.mean(y_l)\n",
    "        if len(X_r) >= self.min_samples_split:\n",
    "            self.split(right_child, X_r, y_r)\n",
    "        else:\n",
    "            right_child.output = np.mean(y_r)\n",
    "\n",
    "        parent.left_child = left_child\n",
    "        parent.right_child = right_child\n",
    "\n",
    "    def fit(self, X, y):\n",
    "        #Create root node\n",
    "        self.split(self.root, X, y)      \n",
    "    \n",
    "    def compute(self, node, value):\n",
    "        if node.isLeaf:\n",
    "            return node.output\n",
    "        if value >= node.threshold:\n",
    "            return self.compute(node.right_child, value)\n",
    "        else:\n",
    "            return self.compute( node.left_child, value)\n",
    "        \n",
    "    def predict(self, X):\n",
    "        if not isinstance(X, np.ndarray):\n",
    "            return self.compute(self.root, X)\n",
    "        return [self.compute(self.root, x) for x in X]     \n",
    "\n",
    "    def print_split(self, node, shift_vec):\n",
    "        \n",
    "        if node.left_child == node.right_child == None:\n",
    "            return 'Leaf ' + u'\\u2192 ' + 'y = ' + '{0:.0f}'.format(node.output) + '\\n'\n",
    "\n",
    "        shift = shift_vec.copy()\n",
    "        \n",
    "        #Right child condition\n",
    "        right_condition = u'\\u252C ' + 'x >= ' + '{0:.2f}'.format(node.threshold) + ': '\n",
    "        \n",
    "        #Left child condition\n",
    "        left_condition  = \"\"\n",
    "        for i,s in enumerate(shift):\n",
    "            left_condition += s[0] + ' '*s[1]\n",
    "        left_condition += u'\\u2514 ' + 'x <  ' + '{0:.2f}'.format(node.threshold) + ': '\n",
    "        \n",
    "        #Append shift vector\n",
    "        shift.append([u'\\u2502 ', len(right_condition) - len(u'\\u252C ')])\n",
    "        \n",
    "        summary = right_condition + self.print_split(node.right_child, shift)        \n",
    "        shift[-1][0] = '  '\n",
    "        summary += left_condition + self.print_split(node.left_child, shift)\n",
    "                \n",
    "        return summary\n",
    "        \n",
    "    def __str__(self):\n",
    "        summary  = ''\n",
    "        summary += self.print_split(self.root, [])\n",
    "        \n",
    "       \n",
    "        return summary"
   ]
  },
  {
   "cell_type": "code",
   "execution_count": 5,
   "metadata": {},
   "outputs": [
    {
     "name": "stdout",
     "output_type": "stream",
     "text": [
      "┬ x >= 5.50: ┬ x >= 8.24: ┬ x >= 9.50: Leaf → y = 1000000\n",
      "│            │            └ x <  9.50: Leaf → y = 500000\n",
      "│            └ x <  8.24: ┬ x >= 7.26: Leaf → y = 300000\n",
      "│                         └ x <  7.26: ┬ x >= 6.50: Leaf → y = 200000\n",
      "│                                      └ x <  6.50: Leaf → y = 150000\n",
      "└ x <  5.50: ┬ x >= 3.24: ┬ x >= 4.50: Leaf → y = 110000\n",
      "             │            └ x <  4.50: Leaf → y = 80000\n",
      "             └ x <  3.24: ┬ x >= 1.74: ┬ x >= 2.50: Leaf → y = 60000\n",
      "                          │            └ x <  2.50: Leaf → y = 50000\n",
      "                          └ x <  1.74: Leaf → y = 45000\n",
      "\n"
     ]
    }
   ],
   "source": [
    "tree = RegressionTree(min_samples_split = 2)\n",
    "tree.fit(X,y)\n",
    "print(tree)"
   ]
  },
  {
   "cell_type": "code",
   "execution_count": 6,
   "metadata": {
    "collapsed": true
   },
   "outputs": [],
   "source": [
    "def func(min_samples):\n",
    "    tree = RegressionTree(min_samples_split = min_samples)\n",
    "    tree.fit(X,y)\n",
    "    X_grid = np.arange(np.min(X),np.max(X),0.001*(np.max(X)-np.min(X)))\n",
    "    y_pred = tree.predict(X_grid)\n",
    "    plt.figure(0)\n",
    "    plt.scatter(X,y)\n",
    "    plt.plot(X_grid, y_pred, color = 'r')\n",
    "    plt.ylim(0, 1.05*max(y))\n",
    "    plt.show()\n",
    "    print(tree)"
   ]
  },
  {
   "cell_type": "code",
   "execution_count": 7,
   "metadata": {},
   "outputs": [
    {
     "data": {
      "application/vnd.jupyter.widget-view+json": {
       "model_id": "8e93b8beefc64d5891843450cb79363e"
      }
     },
     "metadata": {},
     "output_type": "display_data"
    }
   ],
   "source": [
    "interactive_plot = interactive(func, min_samples = (2, len(X), 1))\n",
    "interactive_plot"
   ]
  },
  {
   "cell_type": "code",
   "execution_count": null,
   "metadata": {
    "collapsed": true
   },
   "outputs": [],
   "source": []
  }
 ],
 "metadata": {
  "kernelspec": {
   "display_name": "Python 3",
   "language": "python",
   "name": "python3"
  },
  "language_info": {
   "codemirror_mode": {
    "name": "ipython",
    "version": 3
   },
   "file_extension": ".py",
   "mimetype": "text/x-python",
   "name": "python",
   "nbconvert_exporter": "python",
   "pygments_lexer": "ipython3",
   "version": "3.5.2"
  }
 },
 "nbformat": 4,
 "nbformat_minor": 2
}
